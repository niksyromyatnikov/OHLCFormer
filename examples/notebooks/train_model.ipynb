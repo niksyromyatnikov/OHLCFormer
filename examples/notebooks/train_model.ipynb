{
 "cells": [
  {
   "cell_type": "markdown",
   "metadata": {
    "pycharm": {
     "name": "#%% md\n"
    }
   },
   "source": [
    "<h2>Installing dependencies</h2>"
   ]
  },
  {
   "cell_type": "code",
   "execution_count": null,
   "metadata": {
    "pycharm": {
     "name": "#%%\n"
    }
   },
   "outputs": [],
   "source": [
    "!pip install ohlcformer"
   ]
  },
  {
   "cell_type": "code",
   "execution_count": null,
   "metadata": {
    "pycharm": {
     "name": "#%%\n"
    }
   },
   "outputs": [],
   "source": [
    "from pathlib import Path\n",
    "from ohlcformer.training import run_training"
   ]
  },
  {
   "cell_type": "code",
   "execution_count": null,
   "metadata": {
    "pycharm": {
     "name": "#%%\n"
    }
   },
   "outputs": [],
   "source": [
    "!git clone https://github.com/niksyromyatnikov/OHLCFormer ohlcformer"
   ]
  },
  {
   "cell_type": "code",
   "execution_count": null,
   "metadata": {
    "pycharm": {
     "name": "#%%\n"
    }
   },
   "outputs": [],
   "source": [
    "path = Path('.').absolute()\n",
    "data_path = path / 'ohlcformer' / 'examples' / 'data'\n",
    "model_configs_path = path / 'ohlcformer' / 'examples' / 'model_configs' / 'FNetForFM.json'"
   ]
  },
  {
   "cell_type": "markdown",
   "metadata": {
    "pycharm": {
     "name": "#%% md\n"
    }
   },
   "source": [
    "Note: the following steps require data preprocessing ([more](https://github.com/niksyromyatnikov/OHLCFormer/blob/master/examples/notebooks/data-processing.ipynb))."
   ]
  },
  {
   "cell_type": "markdown",
   "metadata": {
    "pycharm": {
     "name": "#%% md\n"
    }
   },
   "source": [
    "<h2>Training</h2>"
   ]
  },
  {
   "cell_type": "code",
   "execution_count": null,
   "metadata": {
    "pycharm": {
     "name": "#%%\n"
    }
   },
   "outputs": [],
   "source": [
    "datasets = {\n",
    "    'train': data_path / 'train.pt',\n",
    "    'train_with_sep_test': {\n",
    "        'dataset_path': {\n",
    "        'train_dataset': data_path / 'train.pt', \n",
    "        'test_dataset': data_path / 'test.pt'\n",
    "        }\n",
    "    }\n",
    "}"
   ]
  },
  {
   "cell_type": "code",
   "execution_count": null,
   "metadata": {
    "pycharm": {
     "name": "#%%\n"
    }
   },
   "outputs": [],
   "source": [
    "run_training(configs_path=model_configs_path, datasets=datasets, evaluate=True, verbose=False)"
   ]
  },
  {
   "cell_type": "markdown",
   "metadata": {
    "pycharm": {
     "name": "#%% md\n"
    }
   },
   "source": [
    "<h2>Training with advanced settings</h2>"
   ]
  },
  {
   "cell_type": "code",
   "execution_count": null,
   "metadata": {
    "pycharm": {
     "name": "#%%\n"
    }
   },
   "outputs": [],
   "source": [
    "datasets = {\n",
    "    'train_mask': {\n",
    "        'dataset_path': data_path / 'train.pt', \n",
    "        'mask_proba': 0.0, \n",
    "        'prediction_len': 5,\n",
    "        'batch_size': 12,\n",
    "        'trainer': {\n",
    "            'max_epochs': 2,\n",
    "            \"default_root_dir\": path / \"training\",\n",
    "        }\n",
    "    },\n",
    "    'train_no_mask': {\n",
    "        'dataset_path': data_path / 'train_no_mask.pt', \n",
    "        'mask_proba': 0.0, \n",
    "        'prediction_len': 5,\n",
    "        'batch_size': 16,\n",
    "        'lazy_preprocessing': True,\n",
    "        'trainer': {\n",
    "            'accelerator': \"cpu\",\n",
    "            \"default_root_dir\": path / \"training\",\n",
    "            'max_steps': 35,\n",
    "        }\n",
    "    },\n",
    "}"
   ]
  },
  {
   "cell_type": "code",
   "execution_count": null,
   "metadata": {
    "pycharm": {
     "name": "#%%\n"
    }
   },
   "outputs": [],
   "source": [
    "run_training(configs_path=model_configs_path, datasets=datasets, evaluate=True, verbose=False)"
   ]
  }
 ],
 "metadata": {
  "kernelspec": {
   "display_name": "transformer",
   "language": "python",
   "name": "transformer"
  },
  "language_info": {
   "codemirror_mode": {
    "name": "ipython",
    "version": 3
   },
   "file_extension": ".py",
   "mimetype": "text/x-python",
   "name": "python",
   "nbconvert_exporter": "python",
   "pygments_lexer": "ipython3",
   "version": "3.6.12"
  }
 },
 "nbformat": 4,
 "nbformat_minor": 4
}